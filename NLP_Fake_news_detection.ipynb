{
  "nbformat": 4,
  "nbformat_minor": 0,
  "metadata": {
    "colab": {
      "provenance": [],
      "authorship_tag": "ABX9TyMhODIr6kIq+nW2gbd/Ys7g",
      "include_colab_link": true
    },
    "kernelspec": {
      "name": "python3",
      "display_name": "Python 3"
    },
    "language_info": {
      "name": "python"
    }
  },
  "cells": [
    {
      "cell_type": "markdown",
      "metadata": {
        "id": "view-in-github",
        "colab_type": "text"
      },
      "source": [
        "<a href=\"https://colab.research.google.com/github/pvgandhi404/Fake-News-Detection/blob/main/NLP_Fake_news_detection.ipynb\" target=\"_parent\"><img src=\"https://colab.research.google.com/assets/colab-badge.svg\" alt=\"Open In Colab\"/></a>"
      ]
    },
    {
      "cell_type": "markdown",
      "source": [
        "# Imports"
      ],
      "metadata": {
        "id": "H25cBFKRy8wE"
      }
    },
    {
      "cell_type": "code",
      "execution_count": 10,
      "metadata": {
        "id": "7zUHZUUQ8vvv",
        "colab": {
          "base_uri": "https://localhost:8080/"
        },
        "outputId": "428f2b4e-7ac9-40ad-ecbd-6b29ce542b6b"
      },
      "outputs": [
        {
          "output_type": "stream",
          "name": "stdout",
          "text": [
            "Requirement already satisfied: datasets in /usr/local/lib/python3.10/dist-packages (2.16.1)\n",
            "Requirement already satisfied: filelock in /usr/local/lib/python3.10/dist-packages (from datasets) (3.13.1)\n",
            "Requirement already satisfied: numpy>=1.17 in /usr/local/lib/python3.10/dist-packages (from datasets) (1.23.5)\n",
            "Requirement already satisfied: pyarrow>=8.0.0 in /usr/local/lib/python3.10/dist-packages (from datasets) (10.0.1)\n",
            "Requirement already satisfied: pyarrow-hotfix in /usr/local/lib/python3.10/dist-packages (from datasets) (0.6)\n",
            "Requirement already satisfied: dill<0.3.8,>=0.3.0 in /usr/local/lib/python3.10/dist-packages (from datasets) (0.3.7)\n",
            "Requirement already satisfied: pandas in /usr/local/lib/python3.10/dist-packages (from datasets) (1.5.3)\n",
            "Requirement already satisfied: requests>=2.19.0 in /usr/local/lib/python3.10/dist-packages (from datasets) (2.31.0)\n",
            "Requirement already satisfied: tqdm>=4.62.1 in /usr/local/lib/python3.10/dist-packages (from datasets) (4.66.1)\n",
            "Requirement already satisfied: xxhash in /usr/local/lib/python3.10/dist-packages (from datasets) (3.4.1)\n",
            "Requirement already satisfied: multiprocess in /usr/local/lib/python3.10/dist-packages (from datasets) (0.70.15)\n",
            "Requirement already satisfied: fsspec[http]<=2023.10.0,>=2023.1.0 in /usr/local/lib/python3.10/dist-packages (from datasets) (2023.6.0)\n",
            "Requirement already satisfied: aiohttp in /usr/local/lib/python3.10/dist-packages (from datasets) (3.9.1)\n",
            "Requirement already satisfied: huggingface-hub>=0.19.4 in /usr/local/lib/python3.10/dist-packages (from datasets) (0.20.1)\n",
            "Requirement already satisfied: packaging in /usr/local/lib/python3.10/dist-packages (from datasets) (23.2)\n",
            "Requirement already satisfied: pyyaml>=5.1 in /usr/local/lib/python3.10/dist-packages (from datasets) (6.0.1)\n",
            "Requirement already satisfied: attrs>=17.3.0 in /usr/local/lib/python3.10/dist-packages (from aiohttp->datasets) (23.1.0)\n",
            "Requirement already satisfied: multidict<7.0,>=4.5 in /usr/local/lib/python3.10/dist-packages (from aiohttp->datasets) (6.0.4)\n",
            "Requirement already satisfied: yarl<2.0,>=1.0 in /usr/local/lib/python3.10/dist-packages (from aiohttp->datasets) (1.9.4)\n",
            "Requirement already satisfied: frozenlist>=1.1.1 in /usr/local/lib/python3.10/dist-packages (from aiohttp->datasets) (1.4.1)\n",
            "Requirement already satisfied: aiosignal>=1.1.2 in /usr/local/lib/python3.10/dist-packages (from aiohttp->datasets) (1.3.1)\n",
            "Requirement already satisfied: async-timeout<5.0,>=4.0 in /usr/local/lib/python3.10/dist-packages (from aiohttp->datasets) (4.0.3)\n",
            "Requirement already satisfied: typing-extensions>=3.7.4.3 in /usr/local/lib/python3.10/dist-packages (from huggingface-hub>=0.19.4->datasets) (4.5.0)\n",
            "Requirement already satisfied: charset-normalizer<4,>=2 in /usr/local/lib/python3.10/dist-packages (from requests>=2.19.0->datasets) (3.3.2)\n",
            "Requirement already satisfied: idna<4,>=2.5 in /usr/local/lib/python3.10/dist-packages (from requests>=2.19.0->datasets) (3.6)\n",
            "Requirement already satisfied: urllib3<3,>=1.21.1 in /usr/local/lib/python3.10/dist-packages (from requests>=2.19.0->datasets) (2.0.7)\n",
            "Requirement already satisfied: certifi>=2017.4.17 in /usr/local/lib/python3.10/dist-packages (from requests>=2.19.0->datasets) (2023.11.17)\n",
            "Requirement already satisfied: python-dateutil>=2.8.1 in /usr/local/lib/python3.10/dist-packages (from pandas->datasets) (2.8.2)\n",
            "Requirement already satisfied: pytz>=2020.1 in /usr/local/lib/python3.10/dist-packages (from pandas->datasets) (2023.3.post1)\n",
            "Requirement already satisfied: six>=1.5 in /usr/local/lib/python3.10/dist-packages (from python-dateutil>=2.8.1->pandas->datasets) (1.16.0)\n"
          ]
        }
      ],
      "source": [
        "import numpy as np\n",
        "import tensorflow as tf\n",
        "import tensorflow_datasets as tfds\n",
        "from tensorflow.keras.preprocessing.text import Tokenizer\n",
        "from tensorflow.keras.preprocessing.sequence import pad_sequences\n",
        "from tensorflow.keras.models import load_model, save_model\n",
        "\n",
        "!pip install datasets\n",
        "from datasets import load_dataset\n",
        "\n",
        "import nltk\n",
        "from nltk.corpus import stopwords"
      ]
    },
    {
      "cell_type": "markdown",
      "source": [
        "# Process training and testing data from Hugginface"
      ],
      "metadata": {
        "id": "1J_C10Bmy4Uw"
      }
    },
    {
      "cell_type": "code",
      "source": [
        "# Dataset being used: https://huggingface.co/datasets/GonzaloA/fake_news\n",
        "dataset = load_dataset(\"GonzaloA/fake_news\")\n",
        "\n",
        "training_data = list(dataset['train'])\n",
        "test_data = list(dataset['test'])"
      ],
      "metadata": {
        "id": "GoxDbWWTF62Z"
      },
      "execution_count": 11,
      "outputs": []
    },
    {
      "cell_type": "markdown",
      "source": [
        "# Organize into arrays of content and boolean labels"
      ],
      "metadata": {
        "id": "V00qIo2ZzKZR"
      }
    },
    {
      "cell_type": "code",
      "source": [
        "nltk.download('stopwords')\n",
        "stop_words = set(stopwords.words('english'))\n",
        "\n",
        "def remove_stopwords(text):\n",
        "  word_list = text.split()\n",
        "\n",
        "  filtered_list = [word for word in word_list if word not in stop_words]\n",
        "  return ' '.join(filtered_list)"
      ],
      "metadata": {
        "colab": {
          "base_uri": "https://localhost:8080/"
        },
        "id": "EVjPhq_Dy3xI",
        "outputId": "51ebcc26-926f-480b-81dc-12ebbe2aaddc"
      },
      "execution_count": 12,
      "outputs": [
        {
          "output_type": "stream",
          "name": "stderr",
          "text": [
            "[nltk_data] Downloading package stopwords to /root/nltk_data...\n",
            "[nltk_data]   Package stopwords is already up-to-date!\n"
          ]
        }
      ]
    },
    {
      "cell_type": "code",
      "source": [
        "train_sentences = []\n",
        "train_labels = []\n",
        "\n",
        "test_sentences = []\n",
        "test_labels = []\n",
        "\n",
        "for news in training_data:\n",
        "  content = news[\"title\"] + \" \" + news[\"text\"]\n",
        "  content = remove_stopwords(content)\n",
        "\n",
        "  train_sentences.append(content)\n",
        "  train_labels.append(news[\"label\"])\n",
        "\n",
        "for news in test_data:\n",
        "  content = news[\"title\"] + \" \" + news[\"text\"]\n",
        "\n",
        "  test_sentences.append(content)\n",
        "  test_labels.append(news[\"label\"])"
      ],
      "metadata": {
        "id": "Yhdx6iZ5-UV0"
      },
      "execution_count": 13,
      "outputs": []
    },
    {
      "cell_type": "code",
      "source": [
        "## convert lists into numpy array\n",
        "train_labels = np.array(train_labels)\n",
        "test_labels = np.array(test_labels)"
      ],
      "metadata": {
        "id": "FwW_CRMc6toq"
      },
      "execution_count": 14,
      "outputs": []
    },
    {
      "cell_type": "code",
      "source": [
        "# for i in range (0, 10):\n",
        "#   print(test_labels[i], \": \", test_sentences[i])"
      ],
      "metadata": {
        "id": "wRRiZp34R7_9"
      },
      "execution_count": 15,
      "outputs": []
    },
    {
      "cell_type": "markdown",
      "source": [
        "# Tokenize and pad"
      ],
      "metadata": {
        "id": "fVHtU0p0zWgp"
      }
    },
    {
      "cell_type": "code",
      "source": [
        "vocab_size = 10000\n",
        "seq_length = 100\n",
        "oov_token = \"<UNK>\"\n",
        "trunc_type = \"post\"\n",
        "embedding_dim = 64\n",
        "lstm_units = 32"
      ],
      "metadata": {
        "id": "vNRx-pRsl92E"
      },
      "execution_count": 16,
      "outputs": []
    },
    {
      "cell_type": "code",
      "source": [
        "## Tokenize\n",
        "tokenizer = Tokenizer(num_words=vocab_size, lower= True, oov_token=oov_token)\n",
        "tokenizer.fit_on_texts(train_sentences)\n",
        "\n",
        "## Training data\n",
        "train_seqs = tokenizer.texts_to_sequences(train_sentences)\n",
        "train_padded = pad_sequences(train_seqs, maxlen=seq_length, truncating=trunc_type)\n",
        "\n",
        "## Testing data\n",
        "test_seqs = tokenizer.texts_to_sequences(test_sentences)\n",
        "test_padded = pad_sequences(test_seqs,maxlen=seq_length)"
      ],
      "metadata": {
        "id": "F6dl4g-F6FwJ"
      },
      "execution_count": 17,
      "outputs": []
    },
    {
      "cell_type": "code",
      "source": [
        "# print(train_seqs[13])\n",
        "# print(train_padded[13])"
      ],
      "metadata": {
        "id": "bKuEgwAYz65X"
      },
      "execution_count": 18,
      "outputs": []
    },
    {
      "cell_type": "markdown",
      "source": [
        "# Neural Network"
      ],
      "metadata": {
        "id": "vKgdaJt-zwhU"
      }
    },
    {
      "cell_type": "code",
      "source": [
        "\n",
        "# Build the model\n",
        "model = tf.keras.models.Sequential()\n",
        "\n",
        "model.add(tf.keras.layers.Input(shape=seq_length))\n",
        "\n",
        "model.add(tf.keras.layers.Embedding(input_dim=len(tokenizer.word_index) + 1,\n",
        "                                    output_dim=embedding_dim,\n",
        "                                    input_length=seq_length))\n",
        "\n",
        "model.add(tf.keras.layers.LSTM(units=lstm_units))\n",
        "\n",
        "model.add(tf.keras.layers.Dense(64, activation='relu'))\n",
        "\n",
        "model.add(tf.keras.layers.Dense(units=1, activation='sigmoid'))\n",
        "\n",
        "model.compile(optimizer='adam', loss='binary_crossentropy', metrics=['accuracy'])\n",
        "\n",
        "model.summary()"
      ],
      "metadata": {
        "id": "ejERhFcavNKb",
        "colab": {
          "base_uri": "https://localhost:8080/"
        },
        "outputId": "016e42c8-3d89-44d9-f1d8-d98fd85e43d4"
      },
      "execution_count": 19,
      "outputs": [
        {
          "output_type": "stream",
          "name": "stdout",
          "text": [
            "Model: \"sequential\"\n",
            "_________________________________________________________________\n",
            " Layer (type)                Output Shape              Param #   \n",
            "=================================================================\n",
            " embedding (Embedding)       (None, 100, 64)           7972608   \n",
            "                                                                 \n",
            " lstm (LSTM)                 (None, 32)                12416     \n",
            "                                                                 \n",
            " dense (Dense)               (None, 64)                2112      \n",
            "                                                                 \n",
            " dense_1 (Dense)             (None, 1)                 65        \n",
            "                                                                 \n",
            "=================================================================\n",
            "Total params: 7987201 (30.47 MB)\n",
            "Trainable params: 7987201 (30.47 MB)\n",
            "Non-trainable params: 0 (0.00 Byte)\n",
            "_________________________________________________________________\n"
          ]
        }
      ]
    },
    {
      "cell_type": "code",
      "source": [
        "num_epochs = 15\n",
        "# 10 = 88.55%\n",
        "# 15 = 89.34%\n",
        "\n",
        "##train the model with training and validation set\n",
        "history = model.fit(\n",
        "    train_padded,   #training sequence\n",
        "    train_labels, # training labels\n",
        "    epochs=num_epochs,\n",
        "    validation_data=(test_padded, test_labels) # test data\n",
        "  )"
      ],
      "metadata": {
        "id": "t4cJvHRg8or1",
        "colab": {
          "base_uri": "https://localhost:8080/"
        },
        "outputId": "15953e28-b779-49cd-a317-0af97d28b050"
      },
      "execution_count": 20,
      "outputs": [
        {
          "output_type": "stream",
          "name": "stdout",
          "text": [
            "Epoch 1/15\n",
            "762/762 [==============================] - 155s 199ms/step - loss: 0.1711 - accuracy: 0.9460 - val_loss: 1.6499 - val_accuracy: 0.5825\n",
            "Epoch 2/15\n",
            "762/762 [==============================] - 155s 203ms/step - loss: 0.0692 - accuracy: 0.9817 - val_loss: 3.1626 - val_accuracy: 0.5758\n",
            "Epoch 3/15\n",
            "762/762 [==============================] - 135s 177ms/step - loss: 0.0591 - accuracy: 0.9848 - val_loss: 1.7243 - val_accuracy: 0.5741\n",
            "Epoch 4/15\n",
            "762/762 [==============================] - 136s 179ms/step - loss: 0.0435 - accuracy: 0.9896 - val_loss: 3.1015 - val_accuracy: 0.6137\n",
            "Epoch 5/15\n",
            "762/762 [==============================] - 134s 175ms/step - loss: 0.0246 - accuracy: 0.9944 - val_loss: 3.7035 - val_accuracy: 0.5545\n",
            "Epoch 6/15\n",
            "762/762 [==============================] - 134s 176ms/step - loss: 0.0160 - accuracy: 0.9961 - val_loss: 3.3769 - val_accuracy: 0.5604\n",
            "Epoch 7/15\n",
            "762/762 [==============================] - 142s 186ms/step - loss: 0.0077 - accuracy: 0.9980 - val_loss: 4.1480 - val_accuracy: 0.5392\n",
            "Epoch 8/15\n",
            "762/762 [==============================] - 135s 178ms/step - loss: 0.0428 - accuracy: 0.9891 - val_loss: 3.6195 - val_accuracy: 0.5758\n",
            "Epoch 9/15\n",
            "762/762 [==============================] - 136s 179ms/step - loss: 0.0549 - accuracy: 0.9839 - val_loss: 2.0591 - val_accuracy: 0.5514\n",
            "Epoch 10/15\n",
            "762/762 [==============================] - 133s 174ms/step - loss: 0.0744 - accuracy: 0.9720 - val_loss: 1.8390 - val_accuracy: 0.7038\n",
            "Epoch 11/15\n",
            "762/762 [==============================] - 144s 189ms/step - loss: 0.0547 - accuracy: 0.9834 - val_loss: 3.1119 - val_accuracy: 0.5189\n",
            "Epoch 12/15\n",
            "762/762 [==============================] - 132s 174ms/step - loss: 0.0104 - accuracy: 0.9972 - val_loss: 3.8105 - val_accuracy: 0.5280\n",
            "Epoch 13/15\n",
            "762/762 [==============================] - 136s 178ms/step - loss: 0.0031 - accuracy: 0.9993 - val_loss: 4.3267 - val_accuracy: 0.5267\n",
            "Epoch 14/15\n",
            "762/762 [==============================] - 137s 179ms/step - loss: 0.0017 - accuracy: 0.9996 - val_loss: 4.9762 - val_accuracy: 0.5125\n",
            "Epoch 15/15\n",
            "762/762 [==============================] - 136s 178ms/step - loss: 0.0026 - accuracy: 0.9994 - val_loss: 4.3666 - val_accuracy: 0.5161\n"
          ]
        }
      ]
    },
    {
      "cell_type": "code",
      "source": [
        "import matplotlib.pyplot as plt\n",
        "\n",
        "##plot the scores from history\n",
        "def plot_metrics(history, metric):\n",
        "  plt.plot(history.history[metric])\n",
        "  plt.plot(history.history['val_'+ metric])\n",
        "  plt.legend([metric, 'val_'+ metric])\n",
        "  plt.xlabel(\"Epochs\")\n",
        "  plt.ylabel(metric)\n",
        "  plt.show()\n",
        "\n",
        "##plot accuracy\n",
        "plot_metrics(history, \"accuracy\")\n",
        "\n",
        "##plot loss\n",
        "plot_metrics(history, \"loss\")"
      ],
      "metadata": {
        "id": "OSF4MaOhPQUm",
        "colab": {
          "base_uri": "https://localhost:8080/",
          "height": 881
        },
        "outputId": "9a629c1d-6f9c-44c3-b2b9-45624a46272c"
      },
      "execution_count": 21,
      "outputs": [
        {
          "output_type": "display_data",
          "data": {
            "text/plain": [
              "<Figure size 640x480 with 1 Axes>"
            ],
            "image/png": "[encoded data removed]"
          },
          "metadata": {}
        },
        {
          "output_type": "display_data",
          "data": {
            "text/plain": [
              "<Figure size 640x480 with 1 Axes>"
            ],
            "image/png": "[encoded data removed]"
          },
          "metadata": {}
        }
      ]
    },
    {
      "cell_type": "code",
      "source": [
        "model.save(\"fake_news_predict.h5\")\n",
        "\n",
        "model = load_model(\"fake_news_predict.h5\")"
      ],
      "metadata": {
        "id": "3f3koK0MTh7l",
        "colab": {
          "base_uri": "https://localhost:8080/"
        },
        "outputId": "d83a987b-06a8-4e08-ff90-64515c4a125c"
      },
      "execution_count": 22,
      "outputs": [
        {
          "output_type": "stream",
          "name": "stderr",
          "text": [
            "/usr/local/lib/python3.10/dist-packages/keras/src/engine/training.py:3103: UserWarning: You are saving your model as an HDF5 file via `model.save()`. This file format is considered legacy. We recommend using instead the native Keras format, e.g. `model.save('my_model.keras')`.\n",
            "  saving_api.save_model(\n"
          ]
        }
      ]
    },
    {
      "cell_type": "code",
      "source": [
        "sentence = [\"In an powerful moment for a night that is usually designated to honoring celebrities and movies, Vice President Joe Biden took to the stage at the 88th Annual Academy Awards to deliver a message about sexual assault.Biden recently took a break from organizing a national initiative to cure cancer to help launch a program that asks young people to fight against sexual assault by standing up and intervening if they see a situation where consent cannot or has not been given. Taking the microphone at the Academy Awards ceremony, Biden was greeted with a standing ovation from the attendees. The applause was so intense, in fact, that Biden had to settle people down with a joke, telling the collected group of megastars, I m the least qualified man here tonight. Joe Biden introduces Lady Gaga at the #Oscars. https://t.co/aRmjqBSbjg MTV News (@MTVNews) February 29, 2016During his brief remarks, Biden made it clear that victim-blaming had no place in our society. Let s change the culture so that no abused woman or man ever feels they have to ask themselves What did I do? They did nothing wrong. The vice president was joined by Lady Gaga, who helped make a documentary on the subject of date-rape on college campuses. The two promoted a website called ItsOnUs.org that will help spread the message of what people can do to help stop sexual assaults in universities around the country. Afterwards, Lady Gaga performed a song she had written for the documentary. At the conclusion, she was joined by survivors of sexual assault. The performance brought the house down and reduced many in the audience to tears.Powerful. https://t.co/vG5LjQdCo9 #Oscars https://t.co/SSzZEcxSLX ABC News (@ABC) February 29, 2016After the performance, Biden tweeted a photo of himself and Lady Gaga.Proud to stand by my friend @LadyGaga tonight. Pure courage that inspires, challenges us all. #ItsOnUs. All of us. pic.twitter.com/1eee3v0Xd2 Vice President Biden (@VP) February 29, 2016And to those cynics who might believe a speech during the Oscars won t accomplish anything, consider this: From the instant it was mentioned, the ItsOnUs.org website was brought to a crawl under the weight of the traffic. That s a lot of eyes on an issue that is far too often swept under the rug and ignored.Featured image via ABC News/Twitter\"]\n",
        "sentence = remove_stopwords(sentence)\n",
        "\n",
        "##prepare the sequences of the sentences in question\n",
        "sequences = tokenizer.texts_to_sequences(sentence)\n",
        "padded_seqs = pad_sequences(sequences=sequences, maxlen=seq_length, truncating=trunc_type)\n",
        "\n",
        "##print the classification score\n",
        "print(model.predict(padded_seqs))"
      ],
      "metadata": {
        "id": "4XbXWjf1Rdzm",
        "colab": {
          "base_uri": "https://localhost:8080/"
        },
        "outputId": "95fb20ed-bde6-4949-c4ec-0676f5ef81e2"
      },
      "execution_count": 23,
      "outputs": [
        {
          "output_type": "stream",
          "name": "stdout",
          "text": [
            "1/1 [==============================] - 1s 756ms/step\n",
            "[[2.5823724e-06]]\n"
          ]
        }
      ]
    }
  ]
}